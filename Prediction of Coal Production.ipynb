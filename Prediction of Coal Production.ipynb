{
 "cells": [
  {
   "cell_type": "markdown",
   "id": "c4c4ef96",
   "metadata": {},
   "source": [
    "# Coal production in mines 2013 \n",
    "\n",
    "by: Edwin Ayim\n",
    "\n",
    "Abstract: Results of coal data analysis"
   ]
  },
  {
   "cell_type": "code",
   "execution_count": 1,
   "id": "35f81bf4",
   "metadata": {},
   "outputs": [],
   "source": [
    "import pandas as pd\n",
    "import numpy as np\n",
    "import matplotlib.pyplot as plt\n",
    "%matplotlib inline\n",
    "import seaborn as sns\n",
    "\n",
    "from sklearn.model_selection import train_test_split\n",
    "from sklearn.ensemble import RandomForestRegressor\n",
    "from sklearn.metrics import explained_variance_score, r2_score, mean_squared_error\n",
    "\n",
    "sns.set();"
   ]
  },
  {
   "cell_type": "markdown",
   "id": "4bfbcbc7",
   "metadata": {},
   "source": [
    "## Cleaned Data\n",
    "\n",
    "Cleaned notebook data stored in deliver/Data_Cleaning.ipnb"
   ]
  },
  {
   "cell_type": "code",
   "execution_count": null,
   "id": "bf446d34",
   "metadata": {},
   "outputs": [],
   "source": [
    "df1 = pd.read_csv(\"../practise/data/cleaned_coalpublic2013.xls.csv\",index_col='MSHA ID')\n",
    "\n",
    "df1[['Year','Mine_Name']].head()"
   ]
  },
  {
   "cell_type": "markdown",
   "id": "d34527d9",
   "metadata": {},
   "source": [
    "# Predict the production of coal mines"
   ]
  },
  {
   "cell_type": "code",
   "execution_count": null,
   "id": "113fe6de",
   "metadata": {},
   "outputs": [],
   "source": [
    "features =   [ 'Average_Employees',\n",
    "               'Labor_Hours',\n",
    "             ]\n",
    "\n",
    "\n",
    "categoricals = [             \n",
    "                'Mine_State',\n",
    "                'Mine_County',\n",
    "                'Mine_Status',\n",
    "                'Mine_Type',\n",
    "                'Company_Type',\n",
    "                'Operation_Type',\n",
    "                'Union_Code',\n",
    "                'Coal_Supply_Region',\n",
    "              ]\n",
    "\n",
    "target = 'Log_Production'"
   ]
  },
  {
   "cell_type": "code",
   "execution_count": null,
   "id": "de96a190",
   "metadata": {},
   "outputs": [],
   "source": [
    "sns.set_context('poster')\n",
    "fig = plt.subplots(figsize=(14,8))\n",
    "sns.violinplot(y=\"Company_Type\", x=\"Log_Production\", data=df1, split=True, inner=\"stick\")\n",
    "plt.tight_layout()"
   ]
  },
  {
   "cell_type": "code",
   "execution_count": null,
   "id": "6abe61c1",
   "metadata": {},
   "outputs": [],
   "source": [
    "dummy_categoricals = []\n",
    "for categorical in categoricals:\n",
    "    \n",
    "    # Avoid the dummy variable trap!\n",
    "    drop_var = sorted(df1[categorical].unique())[-1]\n",
    "    temp_df1 = pd.get_dummies(df1[categorical], prefix=categorical)\n",
    "    df1 = pd.concat([df1, temp_df1], axis=1)\n",
    "    temp_df1.drop('_'.join([categorical, str(drop_var)]), axis=1, inplace=True)\n",
    "    dummy_categoricals += temp_df1.columns.tolist()"
   ]
  },
  {
   "cell_type": "markdown",
   "id": "20839227",
   "metadata": {},
   "source": [
    "# Random Forest Regression"
   ]
  },
  {
   "cell_type": "code",
   "execution_count": null,
   "id": "739ac780",
   "metadata": {},
   "outputs": [],
   "source": [
    "train,test = train_test_split(df1, test_size=0.3)"
   ]
  },
  {
   "cell_type": "code",
   "execution_count": null,
   "id": "556a456b",
   "metadata": {},
   "outputs": [],
   "source": [
    "rf = RandomForestRegressor(n_estimators=100, oob_score=True)\n",
    "rf.fit(train[features + dummy_categoricals], train[target])"
   ]
  },
  {
   "cell_type": "code",
   "execution_count": null,
   "id": "11e9501e",
   "metadata": {},
   "outputs": [],
   "source": [
    "fig = plt.subplots(figsize=(10,8))\n",
    "sns.regplot(test[target], rf.predict(test[features + dummy_categoricals]))\n",
    "plt.ylabel('Predicted_Production')\n",
    "plt.xlim(0,22)\n",
    "plt.ylim(0,22)\n",
    "plt.tight_layout()\n",
    "plt.savefig(\"../practise/deliver_coal_prodution-RF-prediction.png\")"
   ]
  },
  {
   "cell_type": "code",
   "execution_count": null,
   "id": "73e6ad0c",
   "metadata": {
    "scrolled": true
   },
   "outputs": [],
   "source": [
    "predicted = rf.predict(test[features + dummy_categoricals])\n",
    "\n",
    "print (\"R^2 score:\" , r2_score(test[target], predicted))\n",
    "\n",
    "print (\"variance score:\" , explained_variance_score(test[target], predicted))\n",
    "\n",
    "print (\"MSE:\" , mean_squared_error(test[target], predicted))"
   ]
  },
  {
   "cell_type": "code",
   "execution_count": null,
   "id": "f4699856",
   "metadata": {},
   "outputs": [],
   "source": [
    "rf_importances = pd.DataFrame({'name' : train[features + dummy_categoricals].columns,'importance':rf.feature_importances_\n",
    "                              }).sort_values(by='importance',ascending=False).reset_index(drop=True)\n",
    "\n",
    "rf_importances.head(5)"
   ]
  },
  {
   "cell_type": "markdown",
   "id": "d2e476c2",
   "metadata": {},
   "source": [
    "# Conclusion\n",
    "\n",
    "Detailed conclusion."
   ]
  }
 ],
 "metadata": {
  "kernelspec": {
   "display_name": "Python 3 (ipykernel)",
   "language": "python",
   "name": "python3"
  },
  "language_info": {
   "codemirror_mode": {
    "name": "ipython",
    "version": 3
   },
   "file_extension": ".py",
   "mimetype": "text/x-python",
   "name": "python",
   "nbconvert_exporter": "python",
   "pygments_lexer": "ipython3",
   "version": "3.9.12"
  }
 },
 "nbformat": 4,
 "nbformat_minor": 5
}
