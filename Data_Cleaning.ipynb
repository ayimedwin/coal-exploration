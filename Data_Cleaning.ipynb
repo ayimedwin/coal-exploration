{
 "cells": [
  {
   "cell_type": "markdown",
   "id": "bfcd5fe2",
   "metadata": {},
   "source": [
    "# Data Cleaning\n",
    "\n",
    "by: edwin ayim\n",
    "Cleaned up and removed zero production coal mines"
   ]
  },
  {
   "cell_type": "code",
   "execution_count": 1,
   "id": "dde49a7a",
   "metadata": {},
   "outputs": [
    {
     "ename": "SyntaxError",
     "evalue": "EOL while scanning string literal (1456939282.py, line 1)",
     "output_type": "error",
     "traceback": [
      "\u001b[1;36m  Input \u001b[1;32mIn [1]\u001b[1;36m\u001b[0m\n\u001b[1;33m    output_file = \"../practise/data/cleaned_coalpublic2013.xls.cs\u001b[0m\n\u001b[1;37m                                                                 ^\u001b[0m\n\u001b[1;31mSyntaxError\u001b[0m\u001b[1;31m:\u001b[0m EOL while scanning string literal\n"
     ]
    }
   ],
   "source": [
    "output_file = \"../practise/data/cleaned_coalpublic2013.xls.cs"
   ]
  },
  {
   "cell_type": "code",
   "execution_count": null,
   "id": "35f81bf4",
   "metadata": {},
   "outputs": [],
   "source": [
    "import pandas as pd\n",
    "import numpy as np"
   ]
  },
  {
   "cell_type": "code",
   "execution_count": null,
   "id": "19f834df",
   "metadata": {},
   "outputs": [],
   "source": [
    "print (pd.__version__)"
   ]
  },
  {
   "cell_type": "code",
   "execution_count": null,
   "id": "93d77b42",
   "metadata": {},
   "outputs": [],
   "source": [
    "ls"
   ]
  },
  {
   "cell_type": "code",
   "execution_count": null,
   "id": "c65e7aae",
   "metadata": {},
   "outputs": [],
   "source": [
    "ls .."
   ]
  },
  {
   "cell_type": "code",
   "execution_count": null,
   "id": "83524d2d",
   "metadata": {},
   "outputs": [],
   "source": [
    "ls ..\"/practise/data/\" "
   ]
  },
  {
   "cell_type": "code",
   "execution_count": null,
   "id": "c9f9fdfe",
   "metadata": {},
   "outputs": [],
   "source": [
    "df1 = pd.read_excel(\"../practise/data/coalpublic2013.xls\")\n",
    "df1"
   ]
  },
  {
   "cell_type": "code",
   "execution_count": null,
   "id": "55a0851f",
   "metadata": {},
   "outputs": [],
   "source": [
    "df1 = pd.read_excel(\"../practise/data/coalpublic2013.xls\", header =3,index_col=1)\n",
    "\n",
    "df1.head()"
   ]
  },
  {
   "cell_type": "code",
   "execution_count": null,
   "id": "5bd518cd",
   "metadata": {},
   "outputs": [],
   "source": [
    "# mistake in spelling:Rname Indepedent to Independent\n",
    "df1['Company Type'].unique()"
   ]
  },
  {
   "cell_type": "code",
   "execution_count": null,
   "id": "2db5beb3",
   "metadata": {},
   "outputs": [],
   "source": [
    "df1['Company Type'].replace(to_replace='Indepedent Producer Operator', value='Independent Producer Operator',inplace=True)\n",
    "\n",
    "df1['Company Type'].head()"
   ]
  },
  {
   "cell_type": "code",
   "execution_count": null,
   "id": "dd355f44",
   "metadata": {},
   "outputs": [],
   "source": [
    "# change the space btw the column names to _\n",
    "df1.rename(columns=lambda x: x.replace(\" \", \"_\"),inplace=True)\n",
    "\n",
    "df1.head()"
   ]
  },
  {
   "cell_type": "code",
   "execution_count": null,
   "id": "6154ac82",
   "metadata": {},
   "outputs": [],
   "source": [
    "# check for production tons with zero production \n",
    "df1[df1['Production_(short_tons)'] == 0]"
   ]
  },
  {
   "cell_type": "code",
   "execution_count": null,
   "id": "9c698612",
   "metadata": {},
   "outputs": [],
   "source": [
    "# check production_tons above zero\n",
    "df1[df1['Production_(short_tons)'] > 0]"
   ]
  },
  {
   "cell_type": "code",
   "execution_count": null,
   "id": "e5595e4a",
   "metadata": {},
   "outputs": [],
   "source": [
    "# romove data here:\n",
    "# # coal mines with zero production are removed\n",
    "\n",
    "df1 = df1[ df1['Production_(short_tons)']> 0]"
   ]
  },
  {
   "cell_type": "code",
   "execution_count": null,
   "id": "170addb3",
   "metadata": {},
   "outputs": [],
   "source": [
    "len(df1)"
   ]
  },
  {
   "cell_type": "code",
   "execution_count": null,
   "id": "099490e1",
   "metadata": {},
   "outputs": [],
   "source": [
    "# create log_production column to log production tons column using numpy\n",
    "\n",
    "df1['Log_Production'] = np.log(df1['Production_(short_tons)'])"
   ]
  },
  {
   "cell_type": "code",
   "execution_count": null,
   "id": "423731fd",
   "metadata": {},
   "outputs": [],
   "source": [
    "df1.to_csv(output_file)"
   ]
  },
  {
   "cell_type": "code",
   "execution_count": null,
   "id": "0e87310a",
   "metadata": {},
   "outputs": [],
   "source": []
  }
 ],
 "metadata": {
  "kernelspec": {
   "display_name": "Python 3 (ipykernel)",
   "language": "python",
   "name": "python3"
  },
  "language_info": {
   "codemirror_mode": {
    "name": "ipython",
    "version": 3
   },
   "file_extension": ".py",
   "mimetype": "text/x-python",
   "name": "python",
   "nbconvert_exporter": "python",
   "pygments_lexer": "ipython3",
   "version": "3.9.12"
  }
 },
 "nbformat": 4,
 "nbformat_minor": 5
}
